{
 "cells": [
  {
   "cell_type": "code",
   "execution_count": 1,
   "id": "755627c0-e365-4eba-9b12-e8a90faac01e",
   "metadata": {},
   "outputs": [],
   "source": [
    "# Image Based product Searching Using Deep Learning CNN"
   ]
  },
  {
   "cell_type": "code",
   "execution_count": 1,
   "id": "a067f2ac-f32c-4ed2-8c64-443599d8cdef",
   "metadata": {},
   "outputs": [],
   "source": [
    "import numpy as np\n",
    "import pandas as pd"
   ]
  },
  {
   "cell_type": "code",
   "execution_count": 3,
   "id": "deee3e1e-6729-4423-9e02-dd6dba96c372",
   "metadata": {},
   "outputs": [],
   "source": [
    "import os\n",
    "import tensorflow as tf\n",
    "from tensorflow.keras.applications.vgg16 import VGG16, preprocess_input\n",
    "from tensorflow.keras. preprocessing.image import load_img,img_to_array"
   ]
  },
  {
   "cell_type": "code",
   "execution_count": 4,
   "id": "c1d05797-b5b4-4f21-8b5b-009e48101638",
   "metadata": {},
   "outputs": [],
   "source": [
    "from sklearn.metrics.pairwise import cosine_similarity"
   ]
  },
  {
   "cell_type": "code",
   "execution_count": 7,
   "id": "934de0a4-35b9-4d29-9742-28de2323c757",
   "metadata": {},
   "outputs": [],
   "source": [
    "model = VGG16(weights = 'imagenet',include_top = False, input_shape=(224,224,3))"
   ]
  },
  {
   "cell_type": "code",
   "execution_count": 9,
   "id": "347c708e-2579-43de-8df5-d416cb52870c",
   "metadata": {},
   "outputs": [],
   "source": [
    "def extract_features(image_path, model):\n",
    "    img = load_img(image_path,target_size=(224,224))\n",
    "    img_array = img_to_array(img)\n",
    "    img_array = np.expand_dims(img_array , axis=0)\n",
    "    img_array = preprocess_input(img_array)\n",
    "    features = model.predict(img_array)\n",
    "    return features.flatten()"
   ]
  },
  {
   "cell_type": "code",
   "execution_count": 31,
   "id": "b8a5487b-22bd-4a3e-ae96-7460c27e339e",
   "metadata": {},
   "outputs": [],
   "source": [
    "dataset_path = 'Pictures'"
   ]
  },
  {
   "cell_type": "code",
   "execution_count": 33,
   "id": "82f5113e-f7e1-4ad4-bae3-79a56f652b4a",
   "metadata": {},
   "outputs": [],
   "source": [
    "image_files = [ f for f in os.listdir(dataset_path) if f.endswith('.jpg')]"
   ]
  },
  {
   "cell_type": "code",
   "execution_count": 35,
   "id": "3ebcba8c-fb7d-4422-a583-94664e925ba6",
   "metadata": {},
   "outputs": [
    {
     "name": "stdout",
     "output_type": "stream",
     "text": [
      "\u001b[1m1/1\u001b[0m \u001b[32m━━━━━━━━━━━━━━━━━━━━\u001b[0m\u001b[37m\u001b[0m \u001b[1m0s\u001b[0m 112ms/step\n",
      "\u001b[1m1/1\u001b[0m \u001b[32m━━━━━━━━━━━━━━━━━━━━\u001b[0m\u001b[37m\u001b[0m \u001b[1m0s\u001b[0m 98ms/step\n",
      "\u001b[1m1/1\u001b[0m \u001b[32m━━━━━━━━━━━━━━━━━━━━\u001b[0m\u001b[37m\u001b[0m \u001b[1m0s\u001b[0m 97ms/step\n",
      "\u001b[1m1/1\u001b[0m \u001b[32m━━━━━━━━━━━━━━━━━━━━\u001b[0m\u001b[37m\u001b[0m \u001b[1m0s\u001b[0m 96ms/step\n",
      "\u001b[1m1/1\u001b[0m \u001b[32m━━━━━━━━━━━━━━━━━━━━\u001b[0m\u001b[37m\u001b[0m \u001b[1m0s\u001b[0m 100ms/step\n",
      "\u001b[1m1/1\u001b[0m \u001b[32m━━━━━━━━━━━━━━━━━━━━\u001b[0m\u001b[37m\u001b[0m \u001b[1m0s\u001b[0m 110ms/step\n"
     ]
    }
   ],
   "source": [
    "product_features=[]\n",
    "product_ids=[]\n",
    "for img_file in image_files:\n",
    "    img_path = os.path.join(dataset_path, img_file)\n",
    "    features = extract_features(img_path, model)\n",
    "    product_features.append(features)\n",
    "    product_ids.append(img_file)"
   ]
  },
  {
   "cell_type": "code",
   "execution_count": 37,
   "id": "92e784e7-ca5a-4a0c-aa61-d111b7620b74",
   "metadata": {},
   "outputs": [],
   "source": [
    "feature_df = pd.DataFrame(product_features, index=product_ids)"
   ]
  },
  {
   "cell_type": "code",
   "execution_count": 39,
   "id": "67527219-650a-4aca-838e-56b748b70a96",
   "metadata": {},
   "outputs": [],
   "source": [
    "def recommend_similar_products(query_image_path, feature_df,model,n=5):\n",
    "    query_features = extract_features(query_image_path, model)\n",
    "    similarities = cosine_similarity([query_features],feature_df)\n",
    "    top_indices = np.argsort(similarities[0])[::-1][:n]\n",
    "    return feature_df.index[top_indices]"
   ]
  },
  {
   "cell_type": "code",
   "execution_count": 41,
   "id": "5ff594a4-d12b-449f-b1ce-29471b45136d",
   "metadata": {},
   "outputs": [
    {
     "name": "stdout",
     "output_type": "stream",
     "text": [
      "\u001b[1m1/1\u001b[0m \u001b[32m━━━━━━━━━━━━━━━━━━━━\u001b[0m\u001b[37m\u001b[0m \u001b[1m0s\u001b[0m 115ms/step\n"
     ]
    }
   ],
   "source": [
    "query_image = 'snikers.jpg'\n",
    "recommended_product = recommend_similar_products(query_image, feature_df,model)"
   ]
  },
  {
   "cell_type": "code",
   "execution_count": 43,
   "id": "4b7096f8-c840-4cca-8ada-5be7dd1727b1",
   "metadata": {},
   "outputs": [
    {
     "name": "stdout",
     "output_type": "stream",
     "text": [
      " Top Recommended Products \n",
      "snikers.jpg\n",
      "shoe 2.jpg\n",
      "shoe 3.jpg\n",
      "shoe 4.jpg\n",
      "earpod.jpg\n"
     ]
    }
   ],
   "source": [
    "print(\" Top Recommended Products \")\n",
    "for product in recommended_product:\n",
    "    print(product)"
   ]
  }
 ],
 "metadata": {
  "kernelspec": {
   "display_name": "Python 3 (ipykernel)",
   "language": "python",
   "name": "python3"
  },
  "language_info": {
   "codemirror_mode": {
    "name": "ipython",
    "version": 3
   },
   "file_extension": ".py",
   "mimetype": "text/x-python",
   "name": "python",
   "nbconvert_exporter": "python",
   "pygments_lexer": "ipython3",
   "version": "3.12.2"
  }
 },
 "nbformat": 4,
 "nbformat_minor": 5
}
