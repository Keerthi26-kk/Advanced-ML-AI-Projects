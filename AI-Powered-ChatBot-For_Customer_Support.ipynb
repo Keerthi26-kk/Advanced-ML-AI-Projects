{
 "cells": [
  {
   "cell_type": "code",
   "execution_count": 9,
   "id": "cd7fd0ce-0223-4f95-9cd1-94c152d7f5bf",
   "metadata": {},
   "outputs": [
    {
     "name": "stdout",
     "output_type": "stream",
     "text": [
      "Requirement already satisfied: nltk in /opt/anaconda3/lib/python3.12/site-packages (3.9.1)\n",
      "Requirement already satisfied: scikit-learn in /opt/anaconda3/lib/python3.12/site-packages (1.6.1)\n",
      "Requirement already satisfied: numpy in /opt/anaconda3/lib/python3.12/site-packages (1.26.4)\n",
      "Requirement already satisfied: pandas in /opt/anaconda3/lib/python3.12/site-packages (2.2.3)\n",
      "Requirement already satisfied: click in /opt/anaconda3/lib/python3.12/site-packages (from nltk) (8.1.7)\n",
      "Requirement already satisfied: joblib in /opt/anaconda3/lib/python3.12/site-packages (from nltk) (1.4.2)\n",
      "Requirement already satisfied: regex>=2021.8.3 in /opt/anaconda3/lib/python3.12/site-packages (from nltk) (2024.11.6)\n",
      "Requirement already satisfied: tqdm in /opt/anaconda3/lib/python3.12/site-packages (from nltk) (4.66.5)\n",
      "Requirement already satisfied: scipy>=1.6.0 in /opt/anaconda3/lib/python3.12/site-packages (from scikit-learn) (1.13.1)\n",
      "Requirement already satisfied: threadpoolctl>=3.1.0 in /opt/anaconda3/lib/python3.12/site-packages (from scikit-learn) (3.5.0)\n",
      "Requirement already satisfied: python-dateutil>=2.8.2 in /opt/anaconda3/lib/python3.12/site-packages (from pandas) (2.9.0.post0)\n",
      "Requirement already satisfied: pytz>=2020.1 in /opt/anaconda3/lib/python3.12/site-packages (from pandas) (2024.1)\n",
      "Requirement already satisfied: tzdata>=2022.7 in /opt/anaconda3/lib/python3.12/site-packages (from pandas) (2023.3)\n",
      "Requirement already satisfied: six>=1.5 in /opt/anaconda3/lib/python3.12/site-packages (from python-dateutil>=2.8.2->pandas) (1.17.0)\n",
      "Note: you may need to restart the kernel to use updated packages.\n"
     ]
    }
   ],
   "source": [
    "pip install nltk scikit-learn numpy pandas"
   ]
  },
  {
   "cell_type": "code",
   "execution_count": 1,
   "id": "f1dd906c-d4cd-4fed-9e27-f702c0863e85",
   "metadata": {},
   "outputs": [],
   "source": [
    "import nltk"
   ]
  },
  {
   "cell_type": "code",
   "execution_count": 3,
   "id": "4fe9ea0e-35d3-4895-a368-34d748f3a6a6",
   "metadata": {},
   "outputs": [],
   "source": [
    "import numpy as np\n",
    "import pandas as pd\n",
    "from sklearn.feature_extraction.text import TfidfVectorizer\n",
    "from sklearn.metrics.pairwise import cosine_similarity"
   ]
  },
  {
   "cell_type": "code",
   "execution_count": 5,
   "id": "058c1e34-de52-488f-a225-2a011bc1147f",
   "metadata": {},
   "outputs": [],
   "source": [
    "data = {\"Questions\" : [\"What are your Store Hours?\",\n",
    "                      \"Where is your Store located?\",\n",
    "                      \"do you offer discounts?\",\n",
    "                      \"How can I track my order?\",\n",
    "                      \"What payment methods do you accept?\",\n",
    "                      \"How do I return a Product?\",\n",
    "                      \"What are the latest offers?\"],\n",
    "       \"Answer\" : [\"Our store is open from 9 AM to 9 PM everyday\",\n",
    "                  \"We are located at 1234 ecommerce street , New york\",\n",
    "                  \"Yes, we offer discounts for special occasions\",\n",
    "                   \"You can track your order by login in your account\",\n",
    "                   \"We accept credit card, debit card , paypal and online banking\",\n",
    "                   \"You can return a product within 30 days , Check our profile\",\n",
    "                   \"We have on going offers on electronics and fashion\"]}"
   ]
  },
  {
   "cell_type": "code",
   "execution_count": 7,
   "id": "17455e42-daf5-4832-b08f-332c6134ff54",
   "metadata": {},
   "outputs": [],
   "source": [
    "df= pd.DataFrame(data)"
   ]
  },
  {
   "cell_type": "code",
   "execution_count": 11,
   "id": "ee8bc64b-ecf0-45fa-bc0d-35ee71f37089",
   "metadata": {},
   "outputs": [
    {
     "name": "stderr",
     "output_type": "stream",
     "text": [
      "[nltk_data] Downloading package punkt to /Users/keerthika/nltk_data...\n",
      "[nltk_data]   Package punkt is already up-to-date!\n"
     ]
    },
    {
     "data": {
      "text/plain": [
       "True"
      ]
     },
     "execution_count": 11,
     "metadata": {},
     "output_type": "execute_result"
    }
   ],
   "source": [
    "nltk.download('punkt')"
   ]
  },
  {
   "cell_type": "code",
   "execution_count": 9,
   "id": "3a2f0579-00d2-45d7-938a-cf611b5298ca",
   "metadata": {},
   "outputs": [],
   "source": [
    "vectorizer = TfidfVectorizer()"
   ]
  },
  {
   "cell_type": "code",
   "execution_count": 11,
   "id": "a5681702-7262-4030-b423-8b37952c051c",
   "metadata": {},
   "outputs": [],
   "source": [
    "x= vectorizer.fit_transform(df['Questions'])"
   ]
  },
  {
   "cell_type": "code",
   "execution_count": 17,
   "id": "21d1ec4d-0837-4a41-b5e7-58351be0a0f1",
   "metadata": {},
   "outputs": [
    {
     "data": {
      "text/plain": [
       "<7x25 sparse matrix of type '<class 'numpy.float64'>'\n",
       "\twith 34 stored elements in Compressed Sparse Row format>"
      ]
     },
     "execution_count": 17,
     "metadata": {},
     "output_type": "execute_result"
    }
   ],
   "source": [
    "x"
   ]
  },
  {
   "cell_type": "code",
   "execution_count": 13,
   "id": "5f41410d-791e-4ddc-9314-9009e473f65e",
   "metadata": {},
   "outputs": [],
   "source": [
    "def chatbot_response (user_query):\n",
    "    user_query_tfidf = vectorizer.transform([user_query])\n",
    "    similarity_scores = cosine_similarity(user_query_tfidf,x)\n",
    "    best_match_idx = np.argmax(similarity_scores)\n",
    "\n",
    "    if similarity_scores[0,best_match_idx]<0.2:\n",
    "        return \" I'm Sorry I can not understand could you rephrase it?\"\n",
    "    return df[\"Answer\"][best_match_idx]"
   ]
  },
  {
   "cell_type": "code",
   "execution_count": 19,
   "id": "35c9306e-cc37-49ef-a79f-19e5ea81c24b",
   "metadata": {},
   "outputs": [
    {
     "name": "stdout",
     "output_type": "stream",
     "text": [
      "AI ChatBot : Hi ask me anything related to our store , press exist to stop.\n"
     ]
    },
    {
     "name": "stdin",
     "output_type": "stream",
     "text": [
      "You:  Shop Hours\n"
     ]
    },
    {
     "name": "stdout",
     "output_type": "stream",
     "text": [
      " AI ChatBOT: Our store is open from 9 AM to 9 PM everyday\n"
     ]
    },
    {
     "name": "stdin",
     "output_type": "stream",
     "text": [
      "You:  How to return your products\n"
     ]
    },
    {
     "name": "stdout",
     "output_type": "stream",
     "text": [
      " AI ChatBOT: You can return a product within 30 days , Check our profile\n"
     ]
    },
    {
     "name": "stdin",
     "output_type": "stream",
     "text": [
      "You:   Which payment method  would you prefer\n"
     ]
    },
    {
     "name": "stdout",
     "output_type": "stream",
     "text": [
      " AI ChatBOT: We accept credit card, debit card , paypal and online banking\n"
     ]
    },
    {
     "name": "stdin",
     "output_type": "stream",
     "text": [
      "You:  Shop Location\n"
     ]
    },
    {
     "name": "stdout",
     "output_type": "stream",
     "text": [
      " AI ChatBOT:  I'm Sorry I can not understand could you rephrase it?\n"
     ]
    },
    {
     "name": "stdin",
     "output_type": "stream",
     "text": [
      "You:   Where is your Shop Located at?\n"
     ]
    },
    {
     "name": "stdout",
     "output_type": "stream",
     "text": [
      " AI ChatBOT: We are located at 1234 ecommerce street , New york\n"
     ]
    },
    {
     "name": "stdin",
     "output_type": "stream",
     "text": [
      "You:  exit\n"
     ]
    },
    {
     "name": "stdout",
     "output_type": "stream",
     "text": [
      "AI ChatBot : Good Bye! Have a great day\n"
     ]
    }
   ],
   "source": [
    "print(\"AI ChatBot : Hi ask me anything related to our store , press exist to stop.\")\n",
    "while True:\n",
    "    user_input = input(\"You: \")\n",
    "    if user_input.lower()==\"exit\":\n",
    "        print(\"AI ChatBot : Good Bye! Have a great day\" )\n",
    "        break\n",
    "    response=chatbot_response(user_input)\n",
    "    print(f\" AI ChatBOT: {response}\")"
   ]
  }
 ],
 "metadata": {
  "kernelspec": {
   "display_name": "Python 3 (ipykernel)",
   "language": "python",
   "name": "python3"
  },
  "language_info": {
   "codemirror_mode": {
    "name": "ipython",
    "version": 3
   },
   "file_extension": ".py",
   "mimetype": "text/x-python",
   "name": "python",
   "nbconvert_exporter": "python",
   "pygments_lexer": "ipython3",
   "version": "3.12.2"
  }
 },
 "nbformat": 4,
 "nbformat_minor": 5
}
